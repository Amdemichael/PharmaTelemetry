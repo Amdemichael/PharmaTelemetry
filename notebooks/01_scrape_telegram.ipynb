{
 "cells": [
  {
   "cell_type": "markdown",
   "metadata": {},
   "source": [
    "# Task 1: Telegram Data Scraping\n",
    "This notebook demonstrates how to use the project scraping functions to extract messages and images from Telegram channels and store them in the data lake."
   ]
  },
  {
   "cell_type": "code",
   "execution_count": null,
   "metadata": {},
   "outputs": [],
   "source": [
    "# If running for the first time, install dependencies in the notebook\n",
    "# !pip install telethon python-dotenv loguru pandas matplotlib nest_asyncio\n",
    "# !pip install -r ../requirements.txt\n"
   ]
  },
  {
   "cell_type": "code",
   "execution_count": 11,
   "metadata": {},
   "outputs": [],
   "source": [
    "import sys\n",
    "sys.path.append('../src')  # Ensure src is in the path\n",
    "import nest_asyncio\n",
    "nest_asyncio.apply()\n",
    "from scrape_telegram import scrape_telegram_channels\n"
   ]
  },
  {
   "cell_type": "markdown",
   "metadata": {},
   "source": [
    "## Define the channels to scrape and run the scraper"
   ]
  },
  {
   "cell_type": "code",
   "execution_count": null,
   "metadata": {},
   "outputs": [],
   "source": [
    "channels = [\n",
    "    'https://t.me/lobelia4cosmetics',\n",
    "    'https://t.me/tikvahpharma',\n",
    "    # Add more channels as needed\n",
    "]\n",
    "# Optionally set a custom date string or message limit\n",
    "date_str = None  # e.g., '2025-07-25'\n",
    "limit = 100      # Number of messages per channel\n",
    "\n",
    "# Run the async scraping function from a notebook\n",
    "await scrape_telegram_channels(channels, date_str=date_str, limit=limit)\n"
   ]
  },
  {
   "cell_type": "markdown",
   "metadata": {},
   "source": [
    "---\n",
    "- Raw data will be saved in `data/raw/telegram_messages/YYYY-MM-DD/channel_name.json`.\n",
    "- Images will be saved in a subfolder for each channel and day.\n",
    "- Check the logs for scraping progress and errors.\n"
   ]
  },
  {
   "cell_type": "markdown",
   "metadata": {},
   "source": [
    "## Preview the scrape log and most recent data"
   ]
  },
  {
   "cell_type": "code",
   "execution_count": null,
   "metadata": {},
   "outputs": [],
   "source": [
    "import os, json, glob\n",
    "from datetime import datetime\n",
    "# Load scrape log\n",
    "scrape_log_path = '../data/raw/scrape_log.json'\n",
    "if os.path.exists(scrape_log_path):\n",
    "    with open(scrape_log_path, 'r', encoding='utf-8') as f:\n",
    "        scrape_log = json.load(f)\n",
    "    print('Scrape log:')\n",
    "    for channel, dates in scrape_log.items():\n",
    "        print(f'Channel: {channel}')\n",
    "        for date, info in dates.items():\n",
    "            print(f'  {date}: {info}')\n",
    "else:\n",
    "    print('No scrape log found.')\n",
    "\n",
    "# Preview the most recent scraped data\n",
    "data_dir = '../data/raw/telegram_messages'\n",
    "if os.path.exists(data_dir):\n",
    "    all_json = glob.glob(f'{data_dir}/**/*.json', recursive=True)\n",
    "    if all_json:\n",
    "        latest = max(all_json, key=os.path.getmtime)\n",
    "        print(f'Previewing: {latest}')\n",
    "        with open(latest, 'r', encoding='utf-8') as f:\n",
    "            data = json.load(f)\n",
    "        print(f'Number of messages: {len(data)}')\n",
    "        for msg in data[:3]:\n",
    "            print(json.dumps(msg, indent=2)[:500])\n",
    "    else:\n",
    "        print('No scraped data found.')\n",
    "else:\n",
    "    print('No data directory found.')\n"
   ]
  },
  {
   "cell_type": "markdown",
   "metadata": {},
   "source": [
    "## EDA: Message Counts, Types, and Activity"
   ]
  },
  {
   "cell_type": "code",
   "execution_count": null,
   "metadata": {},
   "outputs": [],
   "source": [
    "import pandas as pd\n",
    "import matplotlib.pyplot as plt\n",
    "import glob, os, json\n",
    "from datetime import datetime\n",
    "\n",
    "# Gather all scraped JSON files\n",
    "data_dir = '../data/raw/telegram_messages'\n",
    "all_json = glob.glob(f'{data_dir}/**/*.json', recursive=True)\n",
    "records = []\n",
    "for path in all_json:\n",
    "    channel = os.path.basename(path).replace('.json', '')\n",
    "    date = os.path.basename(os.path.dirname(path))\n",
    "    with open(path, 'r', encoding='utf-8') as f:\n",
    "        msgs = json.load(f)\n",
    "        for m in msgs:\n",
    "            m['channel'] = channel\n",
    "            m['date'] = date\n",
    "            records.append(m)\n",
    "if records:\n",
    "    df = pd.DataFrame(records)\n",
    "    print(f'Total messages: {len(df)}')\n",
    "    # Message count per channel/date\n",
    "    msg_counts = df.groupby(['channel', 'date']).size().unstack(fill_value=0)\n",
    "    msg_counts.plot(kind='bar', stacked=True, figsize=(10,4))\n",
    "    plt.title('Message Count per Channel/Date')\n",
    "    plt.ylabel('Messages')\n",
    "    plt.show()\n",
    "    # Message type distribution\n",
    "    def msg_type(row):\n",
    "        if row.get('media') and row['media'] is not None:\n",
    "            return 'image' if 'photo' in str(row['media']).lower() else 'other_media'\n",
    "        elif row.get('message'):\n",
    "            return 'text'\n",
    "        else:\n",
    "            return 'other'\n",
    "    df['msg_type'] = df.apply(msg_type, axis=1)\n",
    "    df['msg_type'].value_counts().plot(kind='pie', autopct='%1.1f%%', figsize=(5,5))\n",
    "    plt.title('Message Type Distribution')\n",
    "    plt.ylabel('')\n",
    "    plt.show()\n",
    "    # Posting activity over time\n",
    "    if 'date' in df.columns and 'msg_type' in df.columns:\n",
    "        df['date_dt'] = pd.to_datetime(df['date'], errors='coerce')\n",
    "        activity = df.groupby(['date_dt', 'channel']).size().unstack(fill_value=0)\n",
    "        activity.plot(figsize=(10,4))\n",
    "        plt.title('Posting Activity Over Time')\n",
    "        plt.ylabel('Messages')\n",
    "        plt.show()\n",
    "else:\n",
    "    print('No records to analyze.')\n"
   ]
  },
  {
   "cell_type": "markdown",
   "metadata": {},
   "source": [
    "## Display Sample Images"
   ]
  },
  {
   "cell_type": "code",
   "execution_count": null,
   "metadata": {},
   "outputs": [],
   "source": [
    "import matplotlib.pyplot as plt\n",
    "import matplotlib.image as mpimg\n",
    "import glob\n",
    "# Find a few sample images\n",
    "img_dirs = glob.glob(f'{data_dir}/**/*_images', recursive=True)\n",
    "sample_imgs = []\n",
    "for d in img_dirs:\n",
    "    imgs = glob.glob(f'{d}/*.jpg')\n",
    "    sample_imgs.extend(imgs)\n",
    "# Show up to 4 images\n",
    "for i, img_path in enumerate(sample_imgs[:4]):\n",
    "    img = mpimg.imread(img_path)\n",
    "    plt.figure()\n",
    "    plt.imshow(img)\n",
    "    plt.title(os.path.basename(img_path))\n",
    "    plt.axis('off')\n",
    "    plt.show()\n"
   ]
  }
 ],
 "metadata": {
  "kernelspec": {
   "display_name": "venv",
   "language": "python",
   "name": "python3"
  },
  "language_info": {
   "name": "python",
   "version": "3.11.0"
  }
 },
 "nbformat": 4,
 "nbformat_minor": 2
}
